{
 "cells": [
  {
   "cell_type": "markdown",
   "id": "c2f1b96e",
   "metadata": {},
   "source": [
    "PROBLEM STATEMENT\n",
    "\n",
    "Zaimportowane dane przedstawiają koszty leczenia w Stanach Zjednoczonych. Naszym zadaniem jest zbadanie przedstawionych danych, rozpoznanie korelacji pomiędzy poszczególnymi kategoriami oraz utworzenie modeli, które w sposób dokładny będą mogły przewidzieć koszty leczenia w zależności od danych zmiennych. Przedstawione dane pochodzą z wcześniej udostępnionej bazy danych."
   ]
  },
  {
   "cell_type": "markdown",
   "id": "a9b5c1e6",
   "metadata": {},
   "source": [
    "DATA COLLECTION"
   ]
  },
  {
   "cell_type": "code",
   "execution_count": 91,
   "id": "322712a3",
   "metadata": {},
   "outputs": [],
   "source": [
    "import pandas as pd\n",
    "import matplotlib.pyplot as plt\n",
    "import seaborn as sns\n",
    "from sklearn.preprocessing import OrdinalEncoder\n",
    "from sklearn.preprocessing import OneHotEncoder\n",
    "from sklearn.linear_model import LinearRegression\n",
    "from sklearn.metrics import mean_squared_error, r2_score\n",
    "from sklearn.tree import DecisionTreeRegressor\n",
    "from sklearn.model_selection import train_test_split\n",
    "\n",
    "%matplotlib inline"
   ]
  },
  {
   "cell_type": "code",
   "execution_count": 92,
   "id": "70f02d2d",
   "metadata": {},
   "outputs": [],
   "source": [
    "df = pd.read_csv('https://raw.githubusercontent.com/Kamil128/ProjektPraktycznyRegresja/main/data/medical_cost/medical_cost.csv')"
   ]
  },
  {
   "cell_type": "code",
   "execution_count": 93,
   "id": "b595dcf7",
   "metadata": {},
   "outputs": [
    {
     "name": "stdout",
     "output_type": "stream",
     "text": [
      "<class 'pandas.core.frame.DataFrame'>\n",
      "RangeIndex: 1338 entries, 0 to 1337\n",
      "Data columns (total 7 columns):\n",
      " #   Column    Non-Null Count  Dtype  \n",
      "---  ------    --------------  -----  \n",
      " 0   age       1338 non-null   int64  \n",
      " 1   sex       1338 non-null   object \n",
      " 2   bmi       1338 non-null   float64\n",
      " 3   children  1338 non-null   int64  \n",
      " 4   smoker    1338 non-null   object \n",
      " 5   region    1338 non-null   object \n",
      " 6   charges   1338 non-null   float64\n",
      "dtypes: float64(2), int64(2), object(3)\n",
      "memory usage: 73.3+ KB\n"
     ]
    }
   ],
   "source": [
    "df.info()"
   ]
  },
  {
   "cell_type": "code",
   "execution_count": 94,
   "id": "0e95722a",
   "metadata": {},
   "outputs": [
    {
     "data": {
      "text/html": [
       "<div>\n",
       "<style scoped>\n",
       "    .dataframe tbody tr th:only-of-type {\n",
       "        vertical-align: middle;\n",
       "    }\n",
       "\n",
       "    .dataframe tbody tr th {\n",
       "        vertical-align: top;\n",
       "    }\n",
       "\n",
       "    .dataframe thead th {\n",
       "        text-align: right;\n",
       "    }\n",
       "</style>\n",
       "<table border=\"1\" class=\"dataframe\">\n",
       "  <thead>\n",
       "    <tr style=\"text-align: right;\">\n",
       "      <th></th>\n",
       "      <th>age</th>\n",
       "      <th>sex</th>\n",
       "      <th>bmi</th>\n",
       "      <th>children</th>\n",
       "      <th>smoker</th>\n",
       "      <th>region</th>\n",
       "      <th>charges</th>\n",
       "    </tr>\n",
       "  </thead>\n",
       "  <tbody>\n",
       "    <tr>\n",
       "      <th>0</th>\n",
       "      <td>19</td>\n",
       "      <td>female</td>\n",
       "      <td>27.900</td>\n",
       "      <td>0</td>\n",
       "      <td>yes</td>\n",
       "      <td>southwest</td>\n",
       "      <td>16884.92400</td>\n",
       "    </tr>\n",
       "    <tr>\n",
       "      <th>1</th>\n",
       "      <td>18</td>\n",
       "      <td>male</td>\n",
       "      <td>33.770</td>\n",
       "      <td>1</td>\n",
       "      <td>no</td>\n",
       "      <td>southeast</td>\n",
       "      <td>1725.55230</td>\n",
       "    </tr>\n",
       "    <tr>\n",
       "      <th>2</th>\n",
       "      <td>28</td>\n",
       "      <td>male</td>\n",
       "      <td>33.000</td>\n",
       "      <td>3</td>\n",
       "      <td>no</td>\n",
       "      <td>southeast</td>\n",
       "      <td>4449.46200</td>\n",
       "    </tr>\n",
       "    <tr>\n",
       "      <th>3</th>\n",
       "      <td>33</td>\n",
       "      <td>male</td>\n",
       "      <td>22.705</td>\n",
       "      <td>0</td>\n",
       "      <td>no</td>\n",
       "      <td>northwest</td>\n",
       "      <td>21984.47061</td>\n",
       "    </tr>\n",
       "    <tr>\n",
       "      <th>4</th>\n",
       "      <td>32</td>\n",
       "      <td>male</td>\n",
       "      <td>28.880</td>\n",
       "      <td>0</td>\n",
       "      <td>no</td>\n",
       "      <td>northwest</td>\n",
       "      <td>3866.85520</td>\n",
       "    </tr>\n",
       "    <tr>\n",
       "      <th>5</th>\n",
       "      <td>31</td>\n",
       "      <td>female</td>\n",
       "      <td>25.740</td>\n",
       "      <td>0</td>\n",
       "      <td>no</td>\n",
       "      <td>southeast</td>\n",
       "      <td>3756.62160</td>\n",
       "    </tr>\n",
       "    <tr>\n",
       "      <th>6</th>\n",
       "      <td>46</td>\n",
       "      <td>female</td>\n",
       "      <td>33.440</td>\n",
       "      <td>1</td>\n",
       "      <td>no</td>\n",
       "      <td>southeast</td>\n",
       "      <td>8240.58960</td>\n",
       "    </tr>\n",
       "    <tr>\n",
       "      <th>7</th>\n",
       "      <td>37</td>\n",
       "      <td>female</td>\n",
       "      <td>27.740</td>\n",
       "      <td>3</td>\n",
       "      <td>no</td>\n",
       "      <td>northwest</td>\n",
       "      <td>7281.50560</td>\n",
       "    </tr>\n",
       "    <tr>\n",
       "      <th>8</th>\n",
       "      <td>37</td>\n",
       "      <td>male</td>\n",
       "      <td>29.830</td>\n",
       "      <td>2</td>\n",
       "      <td>no</td>\n",
       "      <td>northeast</td>\n",
       "      <td>6406.41070</td>\n",
       "    </tr>\n",
       "    <tr>\n",
       "      <th>9</th>\n",
       "      <td>60</td>\n",
       "      <td>female</td>\n",
       "      <td>25.840</td>\n",
       "      <td>0</td>\n",
       "      <td>no</td>\n",
       "      <td>northwest</td>\n",
       "      <td>28923.13692</td>\n",
       "    </tr>\n",
       "  </tbody>\n",
       "</table>\n",
       "</div>"
      ],
      "text/plain": [
       "   age     sex     bmi  children smoker     region      charges\n",
       "0   19  female  27.900         0    yes  southwest  16884.92400\n",
       "1   18    male  33.770         1     no  southeast   1725.55230\n",
       "2   28    male  33.000         3     no  southeast   4449.46200\n",
       "3   33    male  22.705         0     no  northwest  21984.47061\n",
       "4   32    male  28.880         0     no  northwest   3866.85520\n",
       "5   31  female  25.740         0     no  southeast   3756.62160\n",
       "6   46  female  33.440         1     no  southeast   8240.58960\n",
       "7   37  female  27.740         3     no  northwest   7281.50560\n",
       "8   37    male  29.830         2     no  northeast   6406.41070\n",
       "9   60  female  25.840         0     no  northwest  28923.13692"
      ]
     },
     "execution_count": 94,
     "metadata": {},
     "output_type": "execute_result"
    }
   ],
   "source": [
    "df.head(n=10)"
   ]
  },
  {
   "cell_type": "code",
   "execution_count": 95,
   "id": "c5846285",
   "metadata": {},
   "outputs": [
    {
     "data": {
      "text/html": [
       "<div>\n",
       "<style scoped>\n",
       "    .dataframe tbody tr th:only-of-type {\n",
       "        vertical-align: middle;\n",
       "    }\n",
       "\n",
       "    .dataframe tbody tr th {\n",
       "        vertical-align: top;\n",
       "    }\n",
       "\n",
       "    .dataframe thead th {\n",
       "        text-align: right;\n",
       "    }\n",
       "</style>\n",
       "<table border=\"1\" class=\"dataframe\">\n",
       "  <thead>\n",
       "    <tr style=\"text-align: right;\">\n",
       "      <th></th>\n",
       "      <th>age</th>\n",
       "      <th>sex</th>\n",
       "      <th>bmi</th>\n",
       "      <th>children</th>\n",
       "      <th>smoker</th>\n",
       "      <th>region</th>\n",
       "      <th>charges</th>\n",
       "    </tr>\n",
       "  </thead>\n",
       "  <tbody>\n",
       "    <tr>\n",
       "      <th>1328</th>\n",
       "      <td>23</td>\n",
       "      <td>female</td>\n",
       "      <td>24.225</td>\n",
       "      <td>2</td>\n",
       "      <td>no</td>\n",
       "      <td>northeast</td>\n",
       "      <td>22395.74424</td>\n",
       "    </tr>\n",
       "    <tr>\n",
       "      <th>1329</th>\n",
       "      <td>52</td>\n",
       "      <td>male</td>\n",
       "      <td>38.600</td>\n",
       "      <td>2</td>\n",
       "      <td>no</td>\n",
       "      <td>southwest</td>\n",
       "      <td>10325.20600</td>\n",
       "    </tr>\n",
       "    <tr>\n",
       "      <th>1330</th>\n",
       "      <td>57</td>\n",
       "      <td>female</td>\n",
       "      <td>25.740</td>\n",
       "      <td>2</td>\n",
       "      <td>no</td>\n",
       "      <td>southeast</td>\n",
       "      <td>12629.16560</td>\n",
       "    </tr>\n",
       "    <tr>\n",
       "      <th>1331</th>\n",
       "      <td>23</td>\n",
       "      <td>female</td>\n",
       "      <td>33.400</td>\n",
       "      <td>0</td>\n",
       "      <td>no</td>\n",
       "      <td>southwest</td>\n",
       "      <td>10795.93733</td>\n",
       "    </tr>\n",
       "    <tr>\n",
       "      <th>1332</th>\n",
       "      <td>52</td>\n",
       "      <td>female</td>\n",
       "      <td>44.700</td>\n",
       "      <td>3</td>\n",
       "      <td>no</td>\n",
       "      <td>southwest</td>\n",
       "      <td>11411.68500</td>\n",
       "    </tr>\n",
       "    <tr>\n",
       "      <th>1333</th>\n",
       "      <td>50</td>\n",
       "      <td>male</td>\n",
       "      <td>30.970</td>\n",
       "      <td>3</td>\n",
       "      <td>no</td>\n",
       "      <td>northwest</td>\n",
       "      <td>10600.54830</td>\n",
       "    </tr>\n",
       "    <tr>\n",
       "      <th>1334</th>\n",
       "      <td>18</td>\n",
       "      <td>female</td>\n",
       "      <td>31.920</td>\n",
       "      <td>0</td>\n",
       "      <td>no</td>\n",
       "      <td>northeast</td>\n",
       "      <td>2205.98080</td>\n",
       "    </tr>\n",
       "    <tr>\n",
       "      <th>1335</th>\n",
       "      <td>18</td>\n",
       "      <td>female</td>\n",
       "      <td>36.850</td>\n",
       "      <td>0</td>\n",
       "      <td>no</td>\n",
       "      <td>southeast</td>\n",
       "      <td>1629.83350</td>\n",
       "    </tr>\n",
       "    <tr>\n",
       "      <th>1336</th>\n",
       "      <td>21</td>\n",
       "      <td>female</td>\n",
       "      <td>25.800</td>\n",
       "      <td>0</td>\n",
       "      <td>no</td>\n",
       "      <td>southwest</td>\n",
       "      <td>2007.94500</td>\n",
       "    </tr>\n",
       "    <tr>\n",
       "      <th>1337</th>\n",
       "      <td>61</td>\n",
       "      <td>female</td>\n",
       "      <td>29.070</td>\n",
       "      <td>0</td>\n",
       "      <td>yes</td>\n",
       "      <td>northwest</td>\n",
       "      <td>29141.36030</td>\n",
       "    </tr>\n",
       "  </tbody>\n",
       "</table>\n",
       "</div>"
      ],
      "text/plain": [
       "      age     sex     bmi  children smoker     region      charges\n",
       "1328   23  female  24.225         2     no  northeast  22395.74424\n",
       "1329   52    male  38.600         2     no  southwest  10325.20600\n",
       "1330   57  female  25.740         2     no  southeast  12629.16560\n",
       "1331   23  female  33.400         0     no  southwest  10795.93733\n",
       "1332   52  female  44.700         3     no  southwest  11411.68500\n",
       "1333   50    male  30.970         3     no  northwest  10600.54830\n",
       "1334   18  female  31.920         0     no  northeast   2205.98080\n",
       "1335   18  female  36.850         0     no  southeast   1629.83350\n",
       "1336   21  female  25.800         0     no  southwest   2007.94500\n",
       "1337   61  female  29.070         0    yes  northwest  29141.36030"
      ]
     },
     "execution_count": 95,
     "metadata": {},
     "output_type": "execute_result"
    }
   ],
   "source": [
    "df.tail(n=10)"
   ]
  },
  {
   "cell_type": "code",
   "execution_count": 96,
   "id": "2a28d79a",
   "metadata": {},
   "outputs": [
    {
     "data": {
      "text/html": [
       "<div>\n",
       "<style scoped>\n",
       "    .dataframe tbody tr th:only-of-type {\n",
       "        vertical-align: middle;\n",
       "    }\n",
       "\n",
       "    .dataframe tbody tr th {\n",
       "        vertical-align: top;\n",
       "    }\n",
       "\n",
       "    .dataframe thead th {\n",
       "        text-align: right;\n",
       "    }\n",
       "</style>\n",
       "<table border=\"1\" class=\"dataframe\">\n",
       "  <thead>\n",
       "    <tr style=\"text-align: right;\">\n",
       "      <th></th>\n",
       "      <th>age</th>\n",
       "      <th>sex</th>\n",
       "      <th>bmi</th>\n",
       "      <th>children</th>\n",
       "      <th>smoker</th>\n",
       "      <th>region</th>\n",
       "      <th>charges</th>\n",
       "    </tr>\n",
       "  </thead>\n",
       "  <tbody>\n",
       "    <tr>\n",
       "      <th>117</th>\n",
       "      <td>29</td>\n",
       "      <td>female</td>\n",
       "      <td>27.940</td>\n",
       "      <td>1</td>\n",
       "      <td>yes</td>\n",
       "      <td>southeast</td>\n",
       "      <td>19107.77960</td>\n",
       "    </tr>\n",
       "    <tr>\n",
       "      <th>376</th>\n",
       "      <td>39</td>\n",
       "      <td>female</td>\n",
       "      <td>24.890</td>\n",
       "      <td>3</td>\n",
       "      <td>yes</td>\n",
       "      <td>northeast</td>\n",
       "      <td>21659.93010</td>\n",
       "    </tr>\n",
       "    <tr>\n",
       "      <th>1037</th>\n",
       "      <td>45</td>\n",
       "      <td>female</td>\n",
       "      <td>30.495</td>\n",
       "      <td>1</td>\n",
       "      <td>yes</td>\n",
       "      <td>northwest</td>\n",
       "      <td>39725.51805</td>\n",
       "    </tr>\n",
       "    <tr>\n",
       "      <th>69</th>\n",
       "      <td>28</td>\n",
       "      <td>male</td>\n",
       "      <td>23.980</td>\n",
       "      <td>3</td>\n",
       "      <td>yes</td>\n",
       "      <td>southeast</td>\n",
       "      <td>17663.14420</td>\n",
       "    </tr>\n",
       "    <tr>\n",
       "      <th>10</th>\n",
       "      <td>25</td>\n",
       "      <td>male</td>\n",
       "      <td>26.220</td>\n",
       "      <td>0</td>\n",
       "      <td>no</td>\n",
       "      <td>northeast</td>\n",
       "      <td>2721.32080</td>\n",
       "    </tr>\n",
       "    <tr>\n",
       "      <th>579</th>\n",
       "      <td>25</td>\n",
       "      <td>female</td>\n",
       "      <td>23.465</td>\n",
       "      <td>0</td>\n",
       "      <td>no</td>\n",
       "      <td>northeast</td>\n",
       "      <td>3206.49135</td>\n",
       "    </tr>\n",
       "    <tr>\n",
       "      <th>898</th>\n",
       "      <td>18</td>\n",
       "      <td>female</td>\n",
       "      <td>40.260</td>\n",
       "      <td>0</td>\n",
       "      <td>no</td>\n",
       "      <td>southeast</td>\n",
       "      <td>1634.57340</td>\n",
       "    </tr>\n",
       "    <tr>\n",
       "      <th>764</th>\n",
       "      <td>45</td>\n",
       "      <td>female</td>\n",
       "      <td>25.175</td>\n",
       "      <td>2</td>\n",
       "      <td>no</td>\n",
       "      <td>northeast</td>\n",
       "      <td>9095.06825</td>\n",
       "    </tr>\n",
       "    <tr>\n",
       "      <th>1327</th>\n",
       "      <td>51</td>\n",
       "      <td>male</td>\n",
       "      <td>30.030</td>\n",
       "      <td>1</td>\n",
       "      <td>no</td>\n",
       "      <td>southeast</td>\n",
       "      <td>9377.90470</td>\n",
       "    </tr>\n",
       "    <tr>\n",
       "      <th>739</th>\n",
       "      <td>29</td>\n",
       "      <td>male</td>\n",
       "      <td>35.500</td>\n",
       "      <td>2</td>\n",
       "      <td>yes</td>\n",
       "      <td>southwest</td>\n",
       "      <td>44585.45587</td>\n",
       "    </tr>\n",
       "  </tbody>\n",
       "</table>\n",
       "</div>"
      ],
      "text/plain": [
       "      age     sex     bmi  children smoker     region      charges\n",
       "117    29  female  27.940         1    yes  southeast  19107.77960\n",
       "376    39  female  24.890         3    yes  northeast  21659.93010\n",
       "1037   45  female  30.495         1    yes  northwest  39725.51805\n",
       "69     28    male  23.980         3    yes  southeast  17663.14420\n",
       "10     25    male  26.220         0     no  northeast   2721.32080\n",
       "579    25  female  23.465         0     no  northeast   3206.49135\n",
       "898    18  female  40.260         0     no  southeast   1634.57340\n",
       "764    45  female  25.175         2     no  northeast   9095.06825\n",
       "1327   51    male  30.030         1     no  southeast   9377.90470\n",
       "739    29    male  35.500         2    yes  southwest  44585.45587"
      ]
     },
     "execution_count": 96,
     "metadata": {},
     "output_type": "execute_result"
    }
   ],
   "source": [
    "df.sample(n=10)"
   ]
  },
  {
   "cell_type": "code",
   "execution_count": 97,
   "id": "ec42edd5",
   "metadata": {},
   "outputs": [
    {
     "data": {
      "text/html": [
       "<div>\n",
       "<style scoped>\n",
       "    .dataframe tbody tr th:only-of-type {\n",
       "        vertical-align: middle;\n",
       "    }\n",
       "\n",
       "    .dataframe tbody tr th {\n",
       "        vertical-align: top;\n",
       "    }\n",
       "\n",
       "    .dataframe thead th {\n",
       "        text-align: right;\n",
       "    }\n",
       "</style>\n",
       "<table border=\"1\" class=\"dataframe\">\n",
       "  <thead>\n",
       "    <tr style=\"text-align: right;\">\n",
       "      <th></th>\n",
       "      <th>age</th>\n",
       "      <th>bmi</th>\n",
       "      <th>children</th>\n",
       "      <th>charges</th>\n",
       "    </tr>\n",
       "  </thead>\n",
       "  <tbody>\n",
       "    <tr>\n",
       "      <th>count</th>\n",
       "      <td>1338.000000</td>\n",
       "      <td>1338.000000</td>\n",
       "      <td>1338.000000</td>\n",
       "      <td>1338.000000</td>\n",
       "    </tr>\n",
       "    <tr>\n",
       "      <th>mean</th>\n",
       "      <td>39.207025</td>\n",
       "      <td>30.663397</td>\n",
       "      <td>1.094918</td>\n",
       "      <td>13270.422265</td>\n",
       "    </tr>\n",
       "    <tr>\n",
       "      <th>std</th>\n",
       "      <td>14.049960</td>\n",
       "      <td>6.098187</td>\n",
       "      <td>1.205493</td>\n",
       "      <td>12110.011237</td>\n",
       "    </tr>\n",
       "    <tr>\n",
       "      <th>min</th>\n",
       "      <td>18.000000</td>\n",
       "      <td>15.960000</td>\n",
       "      <td>0.000000</td>\n",
       "      <td>1121.873900</td>\n",
       "    </tr>\n",
       "    <tr>\n",
       "      <th>25%</th>\n",
       "      <td>27.000000</td>\n",
       "      <td>26.296250</td>\n",
       "      <td>0.000000</td>\n",
       "      <td>4740.287150</td>\n",
       "    </tr>\n",
       "    <tr>\n",
       "      <th>50%</th>\n",
       "      <td>39.000000</td>\n",
       "      <td>30.400000</td>\n",
       "      <td>1.000000</td>\n",
       "      <td>9382.033000</td>\n",
       "    </tr>\n",
       "    <tr>\n",
       "      <th>75%</th>\n",
       "      <td>51.000000</td>\n",
       "      <td>34.693750</td>\n",
       "      <td>2.000000</td>\n",
       "      <td>16639.912515</td>\n",
       "    </tr>\n",
       "    <tr>\n",
       "      <th>max</th>\n",
       "      <td>64.000000</td>\n",
       "      <td>53.130000</td>\n",
       "      <td>5.000000</td>\n",
       "      <td>63770.428010</td>\n",
       "    </tr>\n",
       "  </tbody>\n",
       "</table>\n",
       "</div>"
      ],
      "text/plain": [
       "               age          bmi     children       charges\n",
       "count  1338.000000  1338.000000  1338.000000   1338.000000\n",
       "mean     39.207025    30.663397     1.094918  13270.422265\n",
       "std      14.049960     6.098187     1.205493  12110.011237\n",
       "min      18.000000    15.960000     0.000000   1121.873900\n",
       "25%      27.000000    26.296250     0.000000   4740.287150\n",
       "50%      39.000000    30.400000     1.000000   9382.033000\n",
       "75%      51.000000    34.693750     2.000000  16639.912515\n",
       "max      64.000000    53.130000     5.000000  63770.428010"
      ]
     },
     "execution_count": 97,
     "metadata": {},
     "output_type": "execute_result"
    }
   ],
   "source": [
    "df.describe()"
   ]
  },
  {
   "cell_type": "code",
   "execution_count": 98,
   "id": "a1443913",
   "metadata": {},
   "outputs": [
    {
     "data": {
      "text/html": [
       "<div>\n",
       "<style scoped>\n",
       "    .dataframe tbody tr th:only-of-type {\n",
       "        vertical-align: middle;\n",
       "    }\n",
       "\n",
       "    .dataframe tbody tr th {\n",
       "        vertical-align: top;\n",
       "    }\n",
       "\n",
       "    .dataframe thead th {\n",
       "        text-align: right;\n",
       "    }\n",
       "</style>\n",
       "<table border=\"1\" class=\"dataframe\">\n",
       "  <thead>\n",
       "    <tr style=\"text-align: right;\">\n",
       "      <th></th>\n",
       "      <th>sex</th>\n",
       "      <th>smoker</th>\n",
       "      <th>region</th>\n",
       "    </tr>\n",
       "  </thead>\n",
       "  <tbody>\n",
       "    <tr>\n",
       "      <th>count</th>\n",
       "      <td>1338</td>\n",
       "      <td>1338</td>\n",
       "      <td>1338</td>\n",
       "    </tr>\n",
       "    <tr>\n",
       "      <th>unique</th>\n",
       "      <td>2</td>\n",
       "      <td>2</td>\n",
       "      <td>4</td>\n",
       "    </tr>\n",
       "    <tr>\n",
       "      <th>top</th>\n",
       "      <td>male</td>\n",
       "      <td>no</td>\n",
       "      <td>southeast</td>\n",
       "    </tr>\n",
       "    <tr>\n",
       "      <th>freq</th>\n",
       "      <td>676</td>\n",
       "      <td>1064</td>\n",
       "      <td>364</td>\n",
       "    </tr>\n",
       "  </tbody>\n",
       "</table>\n",
       "</div>"
      ],
      "text/plain": [
       "         sex smoker     region\n",
       "count   1338   1338       1338\n",
       "unique     2      2          4\n",
       "top     male     no  southeast\n",
       "freq     676   1064        364"
      ]
     },
     "execution_count": 98,
     "metadata": {},
     "output_type": "execute_result"
    }
   ],
   "source": [
    "df[['sex', 'smoker', 'region']].describe()"
   ]
  },
  {
   "cell_type": "markdown",
   "id": "3155d26e",
   "metadata": {},
   "source": [
    "DATA CLEANING"
   ]
  },
  {
   "cell_type": "code",
   "execution_count": 99,
   "id": "f5399b66",
   "metadata": {},
   "outputs": [],
   "source": [
    "# Usunięcie duplikatów\n",
    "df = df.drop_duplicates()"
   ]
  },
  {
   "cell_type": "code",
   "execution_count": 7,
   "id": "7ab36496",
   "metadata": {},
   "outputs": [],
   "source": [
    "# Zamienienie wartości typu object oraz int na wartości typu float\n",
    "# df_copy = df.copy()\n",
    "# ordinal_encoder = OrdinalEncoder()\n",
    "# df_copy[['sex', 'smoker', 'region']] = ordinal_encoder.fit_transform(df_copy[['sex', 'smoker', 'region']])\n",
    "# df_copy[[\"age\", \"children\"]] = df_copy[[\"age\", \"children\"]].astype(float)"
   ]
  },
  {
   "cell_type": "code",
   "execution_count": 100,
   "id": "f4731c00",
   "metadata": {},
   "outputs": [
    {
     "name": "stdout",
     "output_type": "stream",
     "text": [
      "      age     bmi  children      charges  sex_female  sex_male  smoker_no  \\\n",
      "0      19  27.900         0  16884.92400           1         0          0   \n",
      "1      18  33.770         1   1725.55230           0         1          1   \n",
      "2      28  33.000         3   4449.46200           0         1          1   \n",
      "3      33  22.705         0  21984.47061           0         1          1   \n",
      "4      32  28.880         0   3866.85520           0         1          1   \n",
      "...   ...     ...       ...          ...         ...       ...        ...   \n",
      "1333   50  30.970         3  10600.54830           0         1          1   \n",
      "1334   18  31.920         0   2205.98080           1         0          1   \n",
      "1335   18  36.850         0   1629.83350           1         0          1   \n",
      "1336   21  25.800         0   2007.94500           1         0          1   \n",
      "1337   61  29.070         0  29141.36030           1         0          0   \n",
      "\n",
      "      smoker_yes  region_northeast  region_northwest  region_southeast  \\\n",
      "0              1                 0                 0                 0   \n",
      "1              0                 0                 0                 1   \n",
      "2              0                 0                 0                 1   \n",
      "3              0                 0                 1                 0   \n",
      "4              0                 0                 1                 0   \n",
      "...          ...               ...               ...               ...   \n",
      "1333           0                 0                 1                 0   \n",
      "1334           0                 1                 0                 0   \n",
      "1335           0                 0                 0                 1   \n",
      "1336           0                 0                 0                 0   \n",
      "1337           1                 0                 1                 0   \n",
      "\n",
      "      region_southwest  \n",
      "0                    1  \n",
      "1                    0  \n",
      "2                    0  \n",
      "3                    0  \n",
      "4                    0  \n",
      "...                ...  \n",
      "1333                 0  \n",
      "1334                 0  \n",
      "1335                 0  \n",
      "1336                 1  \n",
      "1337                 0  \n",
      "\n",
      "[1337 rows x 12 columns]\n"
     ]
    }
   ],
   "source": [
    "#one hot encoding\n",
    "df_copy = pd.get_dummies(df, columns = ['sex', 'smoker', 'region'])\n",
    "\n",
    "print(df_copy)"
   ]
  },
  {
   "cell_type": "code",
   "execution_count": 60,
   "id": "c50900f2",
   "metadata": {},
   "outputs": [],
   "source": [
    "# Usunięcie wartości odstających\n",
    "df_copy = df_copy[df_copy['charges'] < 50000]"
   ]
  },
  {
   "cell_type": "code",
   "execution_count": 61,
   "id": "d7b9bc3e",
   "metadata": {},
   "outputs": [],
   "source": [
    "# Zaokrąglenie wartości w kolumnach \"bmi\" i \"charges\" do dwóch miejsc po przecinku\n",
    "df_copy.bmi = df_copy.bmi.round(2)\n",
    "df_copy.charges = df_copy.charges.round(2)"
   ]
  },
  {
   "cell_type": "code",
   "execution_count": 62,
   "id": "e9909824",
   "metadata": {},
   "outputs": [
    {
     "name": "stdout",
     "output_type": "stream",
     "text": [
      "<class 'pandas.core.frame.DataFrame'>\n",
      "Int64Index: 1330 entries, 0 to 1337\n",
      "Data columns (total 12 columns):\n",
      " #   Column            Non-Null Count  Dtype  \n",
      "---  ------            --------------  -----  \n",
      " 0   age               1330 non-null   int64  \n",
      " 1   bmi               1330 non-null   float64\n",
      " 2   children          1330 non-null   int64  \n",
      " 3   charges           1330 non-null   float64\n",
      " 4   sex_female        1330 non-null   uint8  \n",
      " 5   sex_male          1330 non-null   uint8  \n",
      " 6   smoker_no         1330 non-null   uint8  \n",
      " 7   smoker_yes        1330 non-null   uint8  \n",
      " 8   region_northeast  1330 non-null   uint8  \n",
      " 9   region_northwest  1330 non-null   uint8  \n",
      " 10  region_southeast  1330 non-null   uint8  \n",
      " 11  region_southwest  1330 non-null   uint8  \n",
      "dtypes: float64(2), int64(2), uint8(8)\n",
      "memory usage: 62.3 KB\n"
     ]
    }
   ],
   "source": [
    "df_copy.info()"
   ]
  },
  {
   "cell_type": "markdown",
   "id": "576597ac",
   "metadata": {},
   "source": [
    "EXPLORATORY DATA ANALYSYS"
   ]
  },
  {
   "cell_type": "code",
   "execution_count": 102,
   "id": "daf393e1",
   "metadata": {},
   "outputs": [
    {
     "data": {
      "text/plain": [
       "Text(0.5, 1.0, 'Zależność bmi od wieku')"
      ]
     },
     "execution_count": 102,
     "metadata": {},
     "output_type": "execute_result"
    },
    {
     "data": {
      "image/png": "[encoded data removed]",
      "text/plain": [
       "<Figure size 360x360 with 1 Axes>"
      ]
     },
     "metadata": {
      "needs_background": "light"
     },
     "output_type": "display_data"
    }
   ],
   "source": [
    "#Regresja między wartościami \"age\" i \"bmi\"\n",
    "sns.lmplot(x='age', y='bmi', data=df)\n",
    "plt.title('Zależność bmi od wieku')"
   ]
  },
  {
   "cell_type": "code",
   "execution_count": 15,
   "id": "09889877",
   "metadata": {},
   "outputs": [
    {
     "data": {
      "text/plain": [
       "<seaborn.axisgrid.FacetGrid at 0x1fc31c226b0>"
      ]
     },
     "execution_count": 15,
     "metadata": {},
     "output_type": "execute_result"
    },
    {
     "data": {
      "image/png": "[encoded data removed]",
      "text/plain": [
       "<Figure size 360x360 with 1 Axes>"
      ]
     },
     "metadata": {
      "needs_background": "light"
     },
     "output_type": "display_data"
    }
   ],
   "source": [
    "# Wykres przedstawiający rozkład wartości \"bmi\"\n",
    "sns.displot(df.bmi)"
   ]
  },
  {
   "cell_type": "markdown",
   "id": "cf26e793",
   "metadata": {},
   "source": [
    "FEATURE ENGINEERING"
   ]
  },
  {
   "cell_type": "code",
   "execution_count": 16,
   "id": "478a65d2",
   "metadata": {},
   "outputs": [
    {
     "data": {
      "text/plain": [
       "<AxesSubplot:>"
      ]
     },
     "execution_count": 16,
     "metadata": {},
     "output_type": "execute_result"
    },
    {
     "data": {
      "image/png": "[encoded data removed]",
      "text/plain": [
       "<Figure size 432x288 with 2 Axes>"
      ]
     },
     "metadata": {
      "needs_background": "light"
     },
     "output_type": "display_data"
    }
   ],
   "source": [
    "# Liczenie korelacji między zmiennymi\n",
    "count_corr=df_copy.corr()\n",
    "\n",
    "# Heatmapa korelacji między zmiennymi\n",
    "sns.heatmap(count_corr, cmap= 'RdYlGn',annot=True)"
   ]
  },
  {
   "cell_type": "code",
   "execution_count": 101,
   "id": "df844f40",
   "metadata": {},
   "outputs": [
    {
     "data": {
      "text/plain": [
       "Text(0.5, 1.0, 'Zależność opłat od wieku')"
      ]
     },
     "execution_count": 101,
     "metadata": {},
     "output_type": "execute_result"
    },
    {
     "data": {
      "image/png": "[encoded data removed]",
      "text/plain": [
       "<Figure size 413.25x360 with 1 Axes>"
      ]
     },
     "metadata": {
      "needs_background": "light"
     },
     "output_type": "display_data"
    }
   ],
   "source": [
    "# Regresja między wartościami \"age\" i \"charges\" wraz z wykazanim zależności od wartości \"smoker\"\n",
    "sns.lmplot(x='age', y='charges', data=df, hue='smoker')\n",
    "\n",
    "plt.title('Zależność opłat od wieku')"
   ]
  },
  {
   "cell_type": "code",
   "execution_count": 18,
   "id": "ccfa2767",
   "metadata": {},
   "outputs": [
    {
     "data": {
      "text/plain": [
       "<seaborn.axisgrid.FacetGrid at 0x1fc2fb65b10>"
      ]
     },
     "execution_count": 18,
     "metadata": {},
     "output_type": "execute_result"
    },
    {
     "data": {
      "image/png": "[encoded data removed]",
      "text/plain": [
       "<Figure size 413.25x360 with 1 Axes>"
      ]
     },
     "metadata": {
      "needs_background": "light"
     },
     "output_type": "display_data"
    }
   ],
   "source": [
    "# Regresja między wartościami \"bmi\" i \"charges\" wraz z wykazanim zależności od wartości \"smoker\"\n",
    "sns.lmplot(x='bmi', y='charges', data=df, hue='smoker')"
   ]
  },
  {
   "cell_type": "code",
   "execution_count": 19,
   "id": "e27cc5dc",
   "metadata": {},
   "outputs": [
    {
     "data": {
      "text/plain": [
       "<AxesSubplot:xlabel='sex', ylabel='charges'>"
      ]
     },
     "execution_count": 19,
     "metadata": {},
     "output_type": "execute_result"
    },
    {
     "data": {
      "image/png": "[encoded data removed]",
      "text/plain": [
       "<Figure size 432x288 with 1 Axes>"
      ]
     },
     "metadata": {
      "needs_background": "light"
     },
     "output_type": "display_data"
    }
   ],
   "source": [
    "# Wykres słupkowy przedstawia odchylenie standardowe wartości \"sex\"\n",
    "sns.barplot(x='sex', y='charges', data=df)"
   ]
  },
  {
   "cell_type": "markdown",
   "id": "ad0625dc",
   "metadata": {},
   "source": [
    "MODELLING"
   ]
  },
  {
   "cell_type": "code",
   "execution_count": 65,
   "id": "218c2029",
   "metadata": {},
   "outputs": [],
   "source": [
    "# Stworzenie zbioru testowego i treningowego dla wszystkich zmiennych\n",
    "y = df_copy['charges'].values\n",
    "df_copy1=df_copy.drop('charges', axis=1)\n",
    "X = df_copy1.values\n",
    "\n",
    "\n",
    "X_train, X_test, y_train, y_test = train_test_split(\n",
    "    X, y, test_size=0.2, random_state=0)\n"
   ]
  },
  {
   "cell_type": "code",
   "execution_count": 66,
   "id": "660168c4",
   "metadata": {},
   "outputs": [],
   "source": [
    "# Model regresji liniowej\n",
    "slr = LinearRegression()\n",
    "\n",
    "slr.fit(X_train, y_train)\n",
    "y_train_pred = slr.predict(X_train)\n",
    "y_test_pred = slr.predict(X_test)\n",
    "\n",
    "MSE_lr_train = mean_squared_error(y_train, y_train_pred)\n",
    "MSE_lr_test = mean_squared_error(y_test, y_test_pred)\n",
    "r2_lr_train = r2_score(y_train, y_train_pred)\n",
    "r2_lr_test = r2_score(y_test, y_test_pred)\n"
   ]
  },
  {
   "cell_type": "code",
   "execution_count": 67,
   "id": "7d656232",
   "metadata": {},
   "outputs": [],
   "source": [
    "# Model drzewa decyzyjnego\n",
    "tree_reg = DecisionTreeRegressor(max_depth=4, random_state=42)\n",
    "tree_reg.fit(X_train, y_train)\n",
    "y_train_pred = tree_reg.predict(X_train)\n",
    "y_test_pred = tree_reg.predict(X_test)\n",
    "\n",
    "MSE_t_train = mean_squared_error(y_train, y_train_pred)\n",
    "MSE_t_test = mean_squared_error(y_test, y_test_pred)\n",
    "r2_t_train = r2_score(y_train, y_train_pred)\n",
    "r2_t_test = r2_score(y_test, y_test_pred)\n",
    "\n"
   ]
  },
  {
   "cell_type": "code",
   "execution_count": 68,
   "id": "738b244d",
   "metadata": {},
   "outputs": [
    {
     "data": {
      "text/html": [
       "<div>\n",
       "<style scoped>\n",
       "    .dataframe tbody tr th:only-of-type {\n",
       "        vertical-align: middle;\n",
       "    }\n",
       "\n",
       "    .dataframe tbody tr th {\n",
       "        vertical-align: top;\n",
       "    }\n",
       "\n",
       "    .dataframe thead th {\n",
       "        text-align: right;\n",
       "    }\n",
       "</style>\n",
       "<table border=\"1\" class=\"dataframe\">\n",
       "  <thead>\n",
       "    <tr style=\"text-align: right;\">\n",
       "      <th></th>\n",
       "      <th>MSE train</th>\n",
       "      <th>MSE test</th>\n",
       "      <th>R^2 train</th>\n",
       "      <th>R^2 test</th>\n",
       "    </tr>\n",
       "  </thead>\n",
       "  <tbody>\n",
       "    <tr>\n",
       "      <th>Linear Regression</th>\n",
       "      <td>33857418.0</td>\n",
       "      <td>34018519.0</td>\n",
       "      <td>0.750266</td>\n",
       "      <td>0.759243</td>\n",
       "    </tr>\n",
       "    <tr>\n",
       "      <th>Decision Tree</th>\n",
       "      <td>17811366.0</td>\n",
       "      <td>22435679.0</td>\n",
       "      <td>0.868622</td>\n",
       "      <td>0.841217</td>\n",
       "    </tr>\n",
       "  </tbody>\n",
       "</table>\n",
       "</div>"
      ],
      "text/plain": [
       "                    MSE train    MSE test  R^2 train  R^2 test\n",
       "Linear Regression  33857418.0  34018519.0   0.750266  0.759243\n",
       "Decision Tree      17811366.0  22435679.0   0.868622  0.841217"
      ]
     },
     "execution_count": 68,
     "metadata": {},
     "output_type": "execute_result"
    }
   ],
   "source": [
    "# Wyniki zastosowanych modeli\n",
    "wyniki = pd.DataFrame({'MSE train':[MSE_lr_train.round(0), MSE_t_train.round(0)],\n",
    "                      'MSE test':[MSE_lr_test.round(0), MSE_t_test.round(0)],\n",
    "                      'R^2 train':[r2_lr_train, r2_t_train],\n",
    "                      'R^2 test':[r2_lr_test, r2_t_test]})\n",
    "wyniki.index=['Linear Regression', 'Decision Tree']\n",
    "wyniki"
   ]
  },
  {
   "cell_type": "code",
   "execution_count": 71,
   "id": "5c46f6a4",
   "metadata": {},
   "outputs": [],
   "source": [
    "# Stworzenie zbioru testowego i treningowego dla wybranych zmiennych\n",
    "X = df_copy[['age', 'bmi', 'smoker_no', 'smoker_yes']].values\n",
    "y = df_copy['charges'].values\n",
    "\n",
    "X_train, X_test, y_train, y_test = train_test_split(\n",
    "    X, y, test_size=0.2, random_state=0)"
   ]
  },
  {
   "cell_type": "code",
   "execution_count": 72,
   "id": "f0c9aff3",
   "metadata": {},
   "outputs": [],
   "source": [
    "# Model regresji liniowej\n",
    "slr = LinearRegression()\n",
    "\n",
    "slr.fit(X_train, y_train)\n",
    "y_train_pred = slr.predict(X_train)\n",
    "y_test_pred = slr.predict(X_test)\n",
    "\n",
    "MSE_lr_train = mean_squared_error(y_train, y_train_pred)\n",
    "MSE_lr_test = mean_squared_error(y_test, y_test_pred)\n",
    "r2_lr_train = r2_score(y_train, y_train_pred)\n",
    "r2_lr_test = r2_score(y_test, y_test_pred)"
   ]
  },
  {
   "cell_type": "code",
   "execution_count": 73,
   "id": "cadaff64",
   "metadata": {},
   "outputs": [],
   "source": [
    "# Model drzewa decyzyjnego\n",
    "tree_reg = DecisionTreeRegressor(max_depth=4, random_state=42)\n",
    "tree_reg.fit(X_train, y_train)\n",
    "y_train_pred = tree_reg.predict(X_train)\n",
    "y_test_pred = tree_reg.predict(X_test)\n",
    "\n",
    "MSE_t_train = mean_squared_error(y_train, y_train_pred)\n",
    "MSE_t_test = mean_squared_error(y_test, y_test_pred)\n",
    "r2_t_train = r2_score(y_train, y_train_pred)\n",
    "r2_t_test = r2_score(y_test, y_test_pred)"
   ]
  },
  {
   "cell_type": "code",
   "execution_count": 74,
   "id": "848b0d4f",
   "metadata": {},
   "outputs": [
    {
     "data": {
      "text/html": [
       "<div>\n",
       "<style scoped>\n",
       "    .dataframe tbody tr th:only-of-type {\n",
       "        vertical-align: middle;\n",
       "    }\n",
       "\n",
       "    .dataframe tbody tr th {\n",
       "        vertical-align: top;\n",
       "    }\n",
       "\n",
       "    .dataframe thead th {\n",
       "        text-align: right;\n",
       "    }\n",
       "</style>\n",
       "<table border=\"1\" class=\"dataframe\">\n",
       "  <thead>\n",
       "    <tr style=\"text-align: right;\">\n",
       "      <th></th>\n",
       "      <th>MSE train</th>\n",
       "      <th>MSE test</th>\n",
       "      <th>R^2 train</th>\n",
       "      <th>R^2 test</th>\n",
       "    </tr>\n",
       "  </thead>\n",
       "  <tbody>\n",
       "    <tr>\n",
       "      <th>Linear Regression</th>\n",
       "      <td>34275195.0</td>\n",
       "      <td>34884443.0</td>\n",
       "      <td>0.747184</td>\n",
       "      <td>0.753114</td>\n",
       "    </tr>\n",
       "    <tr>\n",
       "      <th>Decision Tree</th>\n",
       "      <td>18284186.0</td>\n",
       "      <td>21756702.0</td>\n",
       "      <td>0.865135</td>\n",
       "      <td>0.846023</td>\n",
       "    </tr>\n",
       "  </tbody>\n",
       "</table>\n",
       "</div>"
      ],
      "text/plain": [
       "                    MSE train    MSE test  R^2 train  R^2 test\n",
       "Linear Regression  34275195.0  34884443.0   0.747184  0.753114\n",
       "Decision Tree      18284186.0  21756702.0   0.865135  0.846023"
      ]
     },
     "execution_count": 74,
     "metadata": {},
     "output_type": "execute_result"
    }
   ],
   "source": [
    "# Wyniki zastosowanych modeli\n",
    "wyniki = pd.DataFrame({'MSE train':[MSE_lr_train.round(0), MSE_t_train.round(0)],\n",
    "                      'MSE test':[MSE_lr_test.round(0), MSE_t_test.round(0)],\n",
    "                      'R^2 train':[r2_lr_train, r2_t_train],\n",
    "                      'R^2 test':[r2_lr_test, r2_t_test]})\n",
    "wyniki.index=['Linear Regression', 'Decision Tree']\n",
    "wyniki"
   ]
  },
  {
   "cell_type": "code",
   "execution_count": 75,
   "id": "3945ca2b",
   "metadata": {},
   "outputs": [],
   "source": [
    "# Kroswalidacja zastosowanych modeli dla wybranych zmiennych\n",
    "from sklearn.model_selection import KFold\n",
    "X = df_copy[[\"age\",\"bmi\", \"smoker_no\", \"smoker_yes\"]]\n",
    "y = df_copy[\"charges\"]\n",
    "cv = KFold(n_splits=5, shuffle=True, random_state=42)\n",
    "for train, test in cv.split(X, y):\n",
    "    X_train, y_train = X.iloc[train], y.iloc[train]\n",
    "    X_test, y_test = X.iloc[test], y.iloc[test]\n",
    "\n",
    "# Model regresji liniowej\n",
    "slr = LinearRegression()\n",
    "\n",
    "slr.fit(X_train, y_train)\n",
    "y_train_pred = slr.predict(X_train)\n",
    "y_test_pred = slr.predict(X_test)\n",
    "\n",
    "MSE_lr_train = mean_squared_error(y_train, y_train_pred)\n",
    "MSE_lr_test = mean_squared_error(y_test, y_test_pred)\n",
    "r2_lr_train = r2_score(y_train, y_train_pred)\n",
    "r2_lr_test = r2_score(y_test, y_test_pred)\n",
    "\n",
    "# Model drzewa decyzyjnego\n",
    "tree_reg = DecisionTreeRegressor(max_depth=4, random_state=42)\n",
    "tree_reg.fit(X_train, y_train)\n",
    "y_train_pred = tree_reg.predict(X_train)\n",
    "y_test_pred = tree_reg.predict(X_test)\n",
    "\n",
    "MSE_t_train = mean_squared_error(y_train, y_train_pred)\n",
    "MSE_t_test = mean_squared_error(y_test, y_test_pred)\n",
    "r2_t_train = r2_score(y_train, y_train_pred)\n",
    "r2_t_test = r2_score(y_test, y_test_pred)"
   ]
  },
  {
   "cell_type": "code",
   "execution_count": 76,
   "id": "4552aecc",
   "metadata": {},
   "outputs": [
    {
     "data": {
      "text/html": [
       "<div>\n",
       "<style scoped>\n",
       "    .dataframe tbody tr th:only-of-type {\n",
       "        vertical-align: middle;\n",
       "    }\n",
       "\n",
       "    .dataframe tbody tr th {\n",
       "        vertical-align: top;\n",
       "    }\n",
       "\n",
       "    .dataframe thead th {\n",
       "        text-align: right;\n",
       "    }\n",
       "</style>\n",
       "<table border=\"1\" class=\"dataframe\">\n",
       "  <thead>\n",
       "    <tr style=\"text-align: right;\">\n",
       "      <th></th>\n",
       "      <th>MSE train</th>\n",
       "      <th>MSE test</th>\n",
       "      <th>R^2 train</th>\n",
       "      <th>R^2 test</th>\n",
       "    </tr>\n",
       "  </thead>\n",
       "  <tbody>\n",
       "    <tr>\n",
       "      <th>Linear Regression</th>\n",
       "      <td>34317542.0</td>\n",
       "      <td>34863404.0</td>\n",
       "      <td>0.752447</td>\n",
       "      <td>0.730443</td>\n",
       "    </tr>\n",
       "    <tr>\n",
       "      <th>Decision Tree</th>\n",
       "      <td>18419322.0</td>\n",
       "      <td>19441113.0</td>\n",
       "      <td>0.867131</td>\n",
       "      <td>0.849685</td>\n",
       "    </tr>\n",
       "  </tbody>\n",
       "</table>\n",
       "</div>"
      ],
      "text/plain": [
       "                    MSE train    MSE test  R^2 train  R^2 test\n",
       "Linear Regression  34317542.0  34863404.0   0.752447  0.730443\n",
       "Decision Tree      18419322.0  19441113.0   0.867131  0.849685"
      ]
     },
     "execution_count": 76,
     "metadata": {},
     "output_type": "execute_result"
    }
   ],
   "source": [
    "#Wyniki  modeli\n",
    "wyniki = pd.DataFrame({'MSE train':[MSE_lr_train.round(0), MSE_t_train.round(0)],\n",
    "                      'MSE test':[MSE_lr_test.round(0), MSE_t_test.round(0)],\n",
    "                      'R^2 train':[r2_lr_train, r2_t_train],\n",
    "                      'R^2 test':[r2_lr_test, r2_t_test]})\n",
    "wyniki.index=['Linear Regression', 'Decision Tree']\n",
    "wyniki"
   ]
  },
  {
   "cell_type": "code",
   "execution_count": null,
   "id": "df8fb426",
   "metadata": {},
   "outputs": [],
   "source": []
  }
 ],
 "metadata": {
  "kernelspec": {
   "display_name": "Python 3 (ipykernel)",
   "language": "python",
   "name": "python3"
  },
  "language_info": {
   "codemirror_mode": {
    "name": "ipython",
    "version": 3
   },
   "file_extension": ".py",
   "mimetype": "text/x-python",
   "name": "python",
   "nbconvert_exporter": "python",
   "pygments_lexer": "ipython3",
   "version": "3.10.4"
  }
 },
 "nbformat": 4,
 "nbformat_minor": 5
}
