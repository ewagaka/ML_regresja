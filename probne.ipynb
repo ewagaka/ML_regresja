from pandas_profiling import ProfileReport

df = pd.read_csv(r"https://raw.githubusercontent.com/Kamil128/ProjektPraktycznyRegresja/main/data/medical_cost/medical_cost.csv", sep=",")
report = ProfileReport(df)
report.to_file("report.html")